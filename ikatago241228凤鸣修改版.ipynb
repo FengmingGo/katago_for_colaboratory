{
  "cells": [
    {
      "cell_type": "markdown",
      "metadata": {
        "id": "lC9vRGdIPQwF"
      },
      "source": [
        "说明：\n",
        "\n",
        "1.使用之前先选择使用T4 GPU\n",
        "\n",
        "2.连接的命令行为：\n",
        "\n",
        "ikatago.exe -p all -u 用户名 --password 密码\n",
        "\n",
        "注意这里用的platform不是colab\n",
        "\n",
        "3.配置环境后包中有28b 18b 40b 30b 20b权，可以在命令行中使用--kata-weight 18b等等指定。即：\n",
        "\n",
        "ikatago.exe -p all -u 用户名 --password --kata-weight 18b\n",
        "\n",
        "4.需要使用自己的权重就在下面一个单元格最后一行的wget后面加上权重下载链接\n",
        "\n",
        "5.支持humansl，命令行为：（以8段水平为例）\n",
        "\n",
        "ikatago.exe -p all -u 用户名 --password 密码 --kata-config default_humansl --kata-override-config humanSLProfile=rank_8d -- gtp -human-model /root/work/data/humansl.bin.gz\n",
        "\n",
        "其中可以把rank_8d中的8d改为需要的等级。\n",
        "\n",
        "9d的命令行这样写：\n",
        "\n",
        "ikatago.exe -p all -u 用户名 --password 密码 --kata-config 9d -- gtp -human-model /root/work/data/humansl.bin.gz"
      ]
    },
    {
      "cell_type": "code",
      "execution_count": null,
      "metadata": {
        "id": "bQu7Y_Wo9_BI"
      },
      "outputs": [],
      "source": [
        "#配置环境（务必启动这个单元格！等运行完毕再点下面的单元格）\n",
        "#装libssl\n",
        "%cd ~\n",
        "!wget https://github.com/FengmingGo/katago-configs/releases/download/contribute/libssl1.1_1.1.1f-1ubuntu2.17_amd64.deb\n",
        "!dpkg -i libssl1.1_1.1.1f-1ubuntu2.17_amd64.deb && rm libssl1.1_1.1.1f-1ubuntu2.17_amd64.deb\n",
        "#装libzip\n",
        "!wget https://libzip.org/download/libzip-1.11.2.tar.gz\n",
        "!tar -zxvf libzip-1.11.2.tar.gz\n",
        "%cd libzip-1.11.2\n",
        "!cmake .\n",
        "!make && make install\n",
        "!ldconfig /usr/local/lib && ldconfig /usr/local/lib64\n",
        "%cd ..\n",
        "!rm -rf libzip-1.11.2 && rm libzip-1.11.2.tar.gz\n",
        "#下载ikatago相关文件与katago权重\n",
        "!wget https://github.com/FengmingGo/katago-configs/releases/download/contribute/work.zip\n",
        "!unzip work && rm work.zip\n",
        "%cd work\n",
        "!chmod 777 ikatago && chmod 777 run.sh\n",
        "%cd data\n",
        "!chmod 777 katago\n",
        "!wget https://github.com/lightvector/KataGo/releases/download/v1.15.0/b18c384nbt-humanv0.bin.gz -O humansl.bin.gz\n",
        "!wget https://media.katagotraining.org/uploaded/networks/models/kata1/kata1-b28c512nbt-s8032072448-d4548958859.bin.gz -O 28b.bin.gz\n",
        "!wget https://media.katagotraining.org/uploaded/networks/models/kata1/kata1-b18c384nbt-s9996604416-d4316597426.bin.gz -O 18b.bin.gz\n",
        "!wget https://media.katagotraining.org/uploaded/networks/models/kata1/kata1-b40c256-s11840935168-d2898845681.bin.gz -O 40b.bin.gz\n",
        "!wget https://github.com/lightvector/KataGo/releases/download/v1.4.5/g170-b30c320x2-s4824661760-d1229536699.bin.gz -O 30b.bin.gz\n",
        "!wget https://media.katagotraining.org/uploaded/networks/models/kata1/kata1-b20c256x2-s5303129600-d1228401921.bin.gz -O 20b.bin.gz\n",
        "!wget"
      ]
    },
    {
      "cell_type": "code",
      "source": [
        "#启动ikatago server\n",
        "username=\"username\" #ikatago用户名\n",
        "password=\"password\" #ikatago密码\n",
        "%cd ~/work\n",
        "!./run.sh {username} {password}"
      ],
      "metadata": {
        "id": "PnyBm7wHLUiK"
      },
      "execution_count": null,
      "outputs": []
    }
  ],
  "metadata": {
    "accelerator": "GPU",
    "colab": {
      "gpuType": "T4",
      "provenance": []
    },
    "kernelspec": {
      "display_name": "Python 3",
      "name": "python3"
    },
    "language_info": {
      "name": "python"
    }
  },
  "nbformat": 4,
  "nbformat_minor": 0
}