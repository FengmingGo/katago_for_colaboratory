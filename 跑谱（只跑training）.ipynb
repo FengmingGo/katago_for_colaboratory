{
  "cells": [
    {
      "cell_type": "code",
      "execution_count": null,
      "metadata": {
        "id": "5LJ86dPrDKNi"
      },
      "outputs": [],
      "source": [
        "#配置环境（务必启动这个单元格！等运行完毕再点下面的单元格）\n",
        "%cd ~\n",
        "!wget https://github.com/FengmingGo/katago_for_colaboratory/releases/download/20241228/libssl1.1_1.1.1f-1ubuntu2.17_amd64.deb\n",
        "!dpkg -i libssl1.1_1.1.1f-1ubuntu2.17_amd64.deb && rm libssl1.1_1.1.1f-1ubuntu2.17_amd64.deb\n",
        "!wget https://libzip.org/download/libzip-1.11.2.tar.gz\n",
        "!tar -zxvf libzip-1.11.2.tar.gz && rm libzip-1.11.2.tar.gz\n",
        "%cd libzip-1.11.2\n",
        "!cmake .\n",
        "!make && make install\n",
        "!ldconfig /usr/local/lib && ldconfig /usr/local/lib64\n",
        "%cd ~\n",
        "!rm -rf libzip-1.11.2\n",
        "!wget https://github.com/FengmingGo/katago_for_colaboratory/releases/download/20241228/contribute.zip\n",
        "!unzip contribute && rm contribute.zip\n",
        "%cd contribute\n",
        "!chmod 777 katago && chmod 777 contribute_example.cfg"
      ]
    },
    {
      "cell_type": "code",
      "execution_count": null,
      "metadata": {
        "id": "kerjDL1w45QM"
      },
      "outputs": [],
      "source": [
        "#跑谱\n",
        "username = \"凤鸣围棋\" #用户名，注意在跑谱之前别忘了邮箱认证\n",
        "password = \"gtx1660s\" #密码，katago账户的密码\n",
        "maxSimultaneousGames = 10 #修改同时跑谱的数量\n",
        "!./katago contribute -config contribute_example.cfg -override-config username={username},password={password},maxSimultaneousGames={maxSimultaneousGames} #开始跑谱"
      ]
    }
  ],
  "metadata": {
    "accelerator": "GPU",
    "colab": {
      "gpuType": "T4",
      "provenance": []
    },
    "kernelspec": {
      "display_name": "Python 3",
      "name": "python3"
    },
    "language_info": {
      "name": "python"
    }
  },
  "nbformat": 4,
  "nbformat_minor": 0
}